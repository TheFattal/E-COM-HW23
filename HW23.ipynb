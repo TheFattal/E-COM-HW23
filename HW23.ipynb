{
 "cells": [
  {
   "cell_type": "code",
   "execution_count": 7,
   "id": "b007120b-62e8-4712-a3d1-1514230bf1c7",
   "metadata": {},
   "outputs": [
    {
     "name": "stdout",
     "output_type": "stream",
     "text": [
      "Array from 1 to 10:\n",
      " [ 1  2  3  4  5  6  7  8  9 10]\n",
      "Array from 0.5 to 5 in increments of 0.25:\n",
      " [0.5  0.75 1.   1.25 1.5  1.75 2.   2.25 2.5  2.75 3.   3.25 3.5  3.75\n",
      " 4.   4.25 4.5  4.75 5.  ]\n"
     ]
    }
   ],
   "source": [
    "import numpy as np\n",
    "\n",
    "# a. Create and print an array from 1 to 10\n",
    "array1 = np.arange(1, 11)\n",
    "print(\"Array from 1 to 10:\\n\", array1)\n",
    "\n",
    "# b. Create and print an array from 0.5 to 5 in increments of 0.25\n",
    "array2 = np.arange(0.5, 5.25, 0.25)\n",
    "print(\"Array from 0.5 to 5 in increments of 0.25:\\n\", array2)\n"
   ]
  },
  {
   "cell_type": "code",
   "execution_count": 5,
   "id": "34b91b60-4655-4e8d-8f85-2994059f1bec",
   "metadata": {},
   "outputs": [
    {
     "name": "stdout",
     "output_type": "stream",
     "text": [
      "Array of 10 elements (1D): [0. 0. 0. 0. 0. 0. 0. 0. 0. 0.]\n",
      "Array of size 4 x 3:\n",
      " [[0. 0. 0.]\n",
      " [0. 0. 0.]\n",
      " [0. 0. 0.]\n",
      " [0. 0. 0.]]\n"
     ]
    }
   ],
   "source": [
    "# a. Create and print an array of 10 elements (1D array)\n",
    "array3 = np.zeros(10)\n",
    "print(\"Array of 10 elements (1D):\", array3)\n",
    "\n",
    "# b. Create and print an array of 12 elements of size 4 x 3\n",
    "array4 = np.zeros((4, 3))\n",
    "print(\"Array of size 4 x 3:\\n\", array4)\n"
   ]
  },
  {
   "cell_type": "code",
   "execution_count": 11,
   "id": "f1eb7288-3d4c-484b-9eaa-4fbce37bb39f",
   "metadata": {},
   "outputs": [
    {
     "name": "stdout",
     "output_type": "stream",
     "text": [
      "Array of 5 elements from 2 to 12:\n",
      " [ 2.   4.5  7.   9.5 12. ]\n",
      "Array of 4 elements from 3 to 9:\n",
      " [3. 5. 7. 9.]\n"
     ]
    }
   ],
   "source": [
    "# a. Create and print an array of 5 elements from 2 to 12\n",
    "array5 = np.linspace(2, 12, 5)\n",
    "print(\"Array of 5 elements from 2 to 12:\\n\", array5)\n",
    "\n",
    "# b. Create and print an array of 4 elements from 3 to 9\n",
    "array6 = np.linspace(3, 9, 4)\n",
    "print(\"Array of 4 elements from 3 to 9:\\n\", array6)\n"
   ]
  },
  {
   "cell_type": "code",
   "execution_count": 15,
   "id": "a36d4e34-cd6b-4528-975b-6e06f06cfed9",
   "metadata": {},
   "outputs": [
    {
     "name": "stdout",
     "output_type": "stream",
     "text": [
      "Random array of size 2 x 4:\n",
      " [[0.72106515 0.49893454 0.21164494 0.7050103 ]\n",
      " [0.83633261 0.54645334 0.50960928 0.70057019]]\n",
      "Random integer array of size 3 x 3:\n",
      " [[19 18 12]\n",
      " [12 14 18]\n",
      " [13 19 19]]\n",
      "Reshaped array of size 8:\n",
      " [0.72106515 0.49893454 0.21164494 0.7050103  0.83633261 0.54645334\n",
      " 0.50960928 0.70057019]\n"
     ]
    }
   ],
   "source": [
    "# a. Create and print an array of random numbers of size 2 x 4\n",
    "random_array1 = np.random.random((2, 4))\n",
    "print(\"Random array of size 2 x 4:\\n\", random_array1)\n",
    "\n",
    "# b. Create and print an array of random integers between 10 and 20 of size 3 x 3\n",
    "random_array2 = np.random.randint(10, 20, (3, 3))\n",
    "print(\"Random integer array of size 3 x 3:\\n\", random_array2)\n",
    "\n",
    "# Note: When using the reshape operation, the total number of elements must remain the same! \n",
    "# For example, an array of size 2x4 has 8 elements, which can be reshaped into an 8x1 array.\n",
    "\n",
    "# Reshape the first random array to 8 x 1\n",
    "reshaped_array = random_array1.reshape(8)\n",
    "print(\"Reshaped array of size 8:\\n\", reshaped_array)\n"
   ]
  },
  {
   "cell_type": "code",
   "execution_count": 19,
   "id": "e98041d1-7c5a-4c06-95ce-ef106e8e86a1",
   "metadata": {},
   "outputs": [
    {
     "name": "stdout",
     "output_type": "stream",
     "text": [
      "Random numbers with a fixed seed (2 x 4):\n",
      " [[0.37454012 0.95071431 0.73199394 0.59865848]\n",
      " [0.15601864 0.15599452 0.05808361 0.86617615]]\n"
     ]
    }
   ],
   "source": [
    "# Using a fixed seed allows for reproducibility. \n",
    "# This means that every time you run your code with the same seed, you will get the same random numbers.\n",
    "\n",
    "# Setting a fixed seed\n",
    "np.random.seed(42)\n",
    "\n",
    "# Drawing random numbers again\n",
    "random_with_seed = np.random.random((2, 4))\n",
    "print(\"Random numbers with a fixed seed (2 x 4):\\n\", random_with_seed)\n"
   ]
  },
  {
   "cell_type": "code",
   "execution_count": 21,
   "id": "a70ed0c4-69d4-4630-8bd1-09e7174e6949",
   "metadata": {},
   "outputs": [
    {
     "name": "stdin",
     "output_type": "stream",
     "text": [
      "Enter number 1:  2\n",
      "Enter number 2:  3\n",
      "Enter number 3:  5\n",
      "Enter number 4:  77\n",
      "Enter number 5:  8\n"
     ]
    },
    {
     "name": "stdout",
     "output_type": "stream",
     "text": [
      "Largest element: 77.0\n",
      "Smallest element: 2.0\n",
      "Shape of the array: (5,)\n",
      "Index of the largest element: 3\n",
      "Index of the smallest element: 0\n"
     ]
    }
   ],
   "source": [
    "# a. Receive 5 numbers from the user and add them to a list\n",
    "numbers = []\n",
    "for i in range(5):\n",
    "    num = float(input(f\"Enter number {i + 1}: \"))\n",
    "    numbers.append(num)\n",
    "\n",
    "# b. Convert the list to a numpy array\n",
    "array_numbers = np.array(numbers)\n",
    "\n",
    "# c. Print the largest element in the array\n",
    "print(\"Largest element:\", np.max(array_numbers))\n",
    "\n",
    "# d. Print the smallest element in the array\n",
    "print(\"Smallest element:\", np.min(array_numbers))\n",
    "\n",
    "# e. Print the shape of the array\n",
    "print(\"Shape of the array:\", array_numbers.shape)\n",
    "\n",
    "# f. Print the index of the largest element in the array\n",
    "print(\"Index of the largest element:\", np.argmax(array_numbers))\n",
    "\n",
    "# g. Print the index of the smallest element in the array\n",
    "print(\"Index of the smallest element:\", np.argmin(array_numbers))\n"
   ]
  }
 ],
 "metadata": {
  "kernelspec": {
   "display_name": "Python 3 (ipykernel)",
   "language": "python",
   "name": "python3"
  },
  "language_info": {
   "codemirror_mode": {
    "name": "ipython",
    "version": 3
   },
   "file_extension": ".py",
   "mimetype": "text/x-python",
   "name": "python",
   "nbconvert_exporter": "python",
   "pygments_lexer": "ipython3",
   "version": "3.12.7"
  }
 },
 "nbformat": 4,
 "nbformat_minor": 5
}
